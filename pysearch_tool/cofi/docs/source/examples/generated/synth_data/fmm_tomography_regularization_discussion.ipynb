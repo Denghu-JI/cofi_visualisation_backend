{
  "cells": [
    {
      "cell_type": "markdown",
      "metadata": {},
      "source": [
        "# Seismic Wave Tomography via Fast Marching - Regularization Demo\n"
      ]
    },
    {
      "cell_type": "markdown",
      "metadata": {},
      "source": [
        "[![Open In\nColab](https://img.shields.io/badge/open%20in-Colab-b5e2fa?logo=googlecolab&style=flat-square&color=ffd670)](https://colab.research.google.com/github/inlab-geo/cofi-examples/blob/main/examples/fmm_tomography/fmm_tomography.ipynb)\n"
      ]
    },
    {
      "cell_type": "markdown",
      "metadata": {},
      "source": [
        "```{=html}\n<!-- Again, please don't touch the markdown cell above. We'll generate badge \n     automatically from the above cell. -->\n```\n```{=html}\n<!-- This cell describes things related to environment setup, so please add more text \n     if something special (not listed below) is needed to run this notebook -->\n```\n> If you are running this notebook locally, make sure you've followed\n> [steps\n> here](https://github.com/inlab-geo/cofi-examples#run-the-examples-with-cofi-locally)\n> to set up the environment. (This\n> [environment.yml](https://github.com/inlab-geo/cofi-examples/blob/main/envs/environment.yml)\n> file specifies a list of packages required to run the notebooks)\n"
      ]
    },
    {
      "cell_type": "markdown",
      "metadata": {},
      "source": [
        "```{=html}\n<!-- TODO - background introduction for this problem. -->\n```\nIn this notebook, we would like to demonstrate the capability of CoFI to\neasily switch between different types of regularizations.\n\nWe will use `cofi` to run a seismic wave tomography example, in which\nthe forward calculation is based on the Fast Marching Fortran code by\nNick Rawlinson. The Fast Marching code is wrapped in package `espresso`.\n\nWe refer you to [fmm_tomography.ipynb](./fmm_tomography.ipynb) for\nfurther theretical details.\n"
      ]
    },
    {
      "cell_type": "markdown",
      "metadata": {},
      "source": [
        "# 0. Import modules\n"
      ]
    },
    {
      "cell_type": "code",
      "execution_count": null,
      "metadata": {
        "collapsed": false
      },
      "outputs": [],
      "source": [
        "# -------------------------------------------------------- #\n#                                                          #\n#     Uncomment below to set up environment on \"colab\"     #\n#                                                          #\n# -------------------------------------------------------- #\n\n# !pip install -U cofi geo-espresso"
      ]
    },
    {
      "cell_type": "code",
      "execution_count": null,
      "metadata": {
        "collapsed": false
      },
      "outputs": [],
      "source": [
        "import numpy as np\nimport matplotlib.pyplot as plt\nimport pprint\n\nimport cofi\nimport espresso"
      ]
    },
    {
      "cell_type": "markdown",
      "metadata": {},
      "source": [
        "# Understanding the inference problem\n\nBefore we starting working with `cofi`, let's get familiar with the\nproblem itself.\n\nBelow is a plot of the true model and the paths generated from this\nmodel. As you can see, there are two anomalies, one with lower velocity\n(red, top left) and the other with higher velocity (blue, bottom right).\n"
      ]
    },
    {
      "cell_type": "code",
      "execution_count": null,
      "metadata": {
        "collapsed": false
      },
      "outputs": [],
      "source": [
        "fmm = espresso.FmmTomography()\n\nfmm.plot_model(fmm.good_model, with_paths=True);"
      ]
    },
    {
      "cell_type": "code",
      "execution_count": null,
      "metadata": {
        "collapsed": false
      },
      "outputs": [],
      "source": [
        "pprint.pprint(fmm.metadata)"
      ]
    },
    {
      "cell_type": "markdown",
      "metadata": {},
      "source": [
        "# 1. Problem setup and utilities\n"
      ]
    },
    {
      "cell_type": "code",
      "execution_count": null,
      "metadata": {
        "collapsed": false
      },
      "outputs": [],
      "source": [
        "# get problem information from  espresso FmmTomography\nmodel_size = fmm.model_size         # number of model parameters\nmodel_shape = fmm.model_shape       # 2D spatial grids\ndata_size = fmm.data_size           # number of data points\nref_start_slowness = fmm.starting_model"
      ]
    },
    {
      "cell_type": "code",
      "execution_count": null,
      "metadata": {
        "collapsed": false
      },
      "outputs": [],
      "source": [
        "def objective_func(slowness, reg, sigma):\n    ttimes = fmm.forward(slowness)\n    residual = fmm.data - ttimes\n    data_misfit = residual.T @ residual / sigma**2\n    model_reg = reg(slowness)\n    return  data_misfit + model_reg\n\ndef gradient(slowness, reg, sigma):\n    ttimes, A = fmm.forward(slowness, return_jacobian=True)\n    data_misfit_grad = -2 * A.T @ (fmm.data - ttimes) / sigma**2\n    model_reg_grad = reg.gradient(slowness)\n    return  data_misfit_grad + model_reg_grad\n\ndef hessian(slowness, reg, sigma):\n    A = fmm.jacobian(slowness)\n    data_misfit_hess = 2 * A.T @ A / sigma**2 \n    model_reg_hess = reg.hessian(slowness)\n    return data_misfit_hess + model_reg_hess"
      ]
    },
    {
      "cell_type": "markdown",
      "metadata": {},
      "source": [
        "# 2. Invert with quadratic smoothing and damping regularization terms\n\n## 2.1 Define BaseProblem\n"
      ]
    },
    {
      "cell_type": "code",
      "execution_count": null,
      "metadata": {
        "collapsed": false
      },
      "outputs": [],
      "source": [
        "# define CoFI BaseProblem\nfmm_problem_quadratic_reg = cofi.BaseProblem()\nfmm_problem_quadratic_reg.set_initial_model(ref_start_slowness)"
      ]
    },
    {
      "cell_type": "code",
      "execution_count": null,
      "metadata": {
        "collapsed": false
      },
      "outputs": [],
      "source": [
        "# add regularization: damping + smoothing\ndamping_factor = 50\nsmoothing_factor = 5e3\nreg_damping = damping_factor * cofi.utils.QuadraticReg(\n    model_shape=model_shape, \n    weighting_matrix=\"damping\", \n    reference_model=ref_start_slowness\n)\nreg_smoothing = smoothing_factor * cofi.utils.QuadraticReg(\n    model_shape=model_shape,\n    weighting_matrix=\"smoothing\"\n)\nreg = reg_damping + reg_smoothing"
      ]
    },
    {
      "cell_type": "code",
      "execution_count": null,
      "metadata": {
        "collapsed": false
      },
      "outputs": [],
      "source": [
        "sigma =  0.00001                   # Noise is 1.0E-4 is ~5% of standard deviation of initial travel time residuals\n\nfmm_problem_quadratic_reg.set_objective(objective_func, args=[reg, sigma])\nfmm_problem_quadratic_reg.set_gradient(gradient, args=[reg, sigma])\nfmm_problem_quadratic_reg.set_hessian(hessian, args=[reg, sigma])"
      ]
    },
    {
      "cell_type": "markdown",
      "metadata": {},
      "source": [
        "# 2.2 Define InversionOptions\n"
      ]
    },
    {
      "cell_type": "code",
      "execution_count": null,
      "metadata": {
        "collapsed": false
      },
      "outputs": [],
      "source": [
        "my_options = cofi.InversionOptions()\n\n# cofi's own simple newton's matrix-based optimization solver\nmy_options.set_tool(\"cofi.simple_newton\")\nmy_options.set_params(num_iterations=6, step_length=1, verbose=True)"
      ]
    },
    {
      "cell_type": "markdown",
      "metadata": {},
      "source": [
        "# 2.3 Start an inversion\n"
      ]
    },
    {
      "cell_type": "code",
      "execution_count": null,
      "metadata": {
        "collapsed": false
      },
      "outputs": [],
      "source": [
        "inv = cofi.Inversion(fmm_problem_quadratic_reg, my_options)\ninv_result_quadratic_reg = inv.run()\ninv_result_quadratic_reg.summary()"
      ]
    },
    {
      "cell_type": "markdown",
      "metadata": {},
      "source": [
        "# 2.4 Plotting\n"
      ]
    },
    {
      "cell_type": "code",
      "execution_count": null,
      "metadata": {
        "collapsed": false
      },
      "outputs": [],
      "source": [
        "fmm.plot_model(inv_result_quadratic_reg.model);            # inverted model\nfmm.plot_model(fmm.good_model);       # true model"
      ]
    },
    {
      "cell_type": "markdown",
      "metadata": {},
      "source": [
        "------------------------------------------------------------------------\n\n# 3. Invert with Gaussian prior as regularization term\n\nInstead of using a smoothing and damping regularization, in this\nsection, we use a model covariance matrix and prior model.\n\n$\\chi_{P}^{2}=\\left(\\mathbf{y} -\\mathbf{f}(\\mathbf{m})\\right)^T C_d^{-1} \\left(\\mathbf{y} -\\mathbf{f}(\\mathbf{m})\\right) + \\left( \\mathbf{m} - \\mathbf{m}_p \\right)^T C_p^{-1} \\left( \\mathbf{m} - \\mathbf{m}_p \\right)$\n\n$\\Delta \\mathbf{m}= ({J}^T {C}_d^{-1} {J}+{C}_p^{-1})^{-1} ({J}^T{C}_d^{-1} (\\mathbf{y}-\\mathbf{f}(\\mathbf{m}))+{C}_p^{-1}(\\mathbf{m}_p-\\mathbf{m}))$\n\nWe can use CoFI's utility module to help us generate a the Gaussian\nprior term.\n\n## 3.1 Define BaseProblem\n"
      ]
    },
    {
      "cell_type": "code",
      "execution_count": null,
      "metadata": {
        "collapsed": false
      },
      "outputs": [],
      "source": [
        "# define CoFI BaseProblem\nfmm_problem_gaussian_prior = cofi.BaseProblem()\nfmm_problem_gaussian_prior.set_initial_model(ref_start_slowness)"
      ]
    },
    {
      "cell_type": "code",
      "execution_count": null,
      "metadata": {
        "collapsed": false
      },
      "outputs": [],
      "source": [
        "# add regularization: Gaussian prior\ncorrx = 3.0\ncorry = 3.0\nsigma_slowness = 0.002\ngaussian_prior = cofi.utils.GaussianPrior(\n    model_covariance_inv=((corrx, corry), sigma_slowness),\n    mean_model=ref_start_slowness.reshape(model_shape)\n)"
      ]
    },
    {
      "cell_type": "code",
      "execution_count": null,
      "metadata": {
        "collapsed": false
      },
      "outputs": [],
      "source": [
        "fmm_problem_gaussian_prior.set_objective(objective_func, args=[gaussian_prior, sigma])\nfmm_problem_gaussian_prior.set_gradient(gradient, args=[gaussian_prior, sigma])\nfmm_problem_gaussian_prior.set_hessian(hessian, args=[gaussian_prior, sigma])"
      ]
    },
    {
      "cell_type": "markdown",
      "metadata": {},
      "source": [
        "# 3.2 Start an inversion\n"
      ]
    },
    {
      "cell_type": "code",
      "execution_count": null,
      "metadata": {
        "collapsed": false
      },
      "outputs": [],
      "source": [
        "# reuse the previously defined InversionOptions object\ninv = cofi.Inversion(fmm_problem_gaussian_prior, my_options)\ninv_result_gaussian_prior = inv.run()\ninv_result_gaussian_prior.summary()"
      ]
    },
    {
      "cell_type": "markdown",
      "metadata": {},
      "source": [
        "# 3.3 Plotting\n"
      ]
    },
    {
      "cell_type": "code",
      "execution_count": null,
      "metadata": {
        "collapsed": false
      },
      "outputs": [],
      "source": [
        "fmm.plot_model(inv_result_gaussian_prior.model);            # inverted model\nfmm.plot_model(fmm.good_model);       # true model"
      ]
    },
    {
      "cell_type": "markdown",
      "metadata": {},
      "source": [
        "# 4. Comparison and discussion\n\n#TODO\n"
      ]
    },
    {
      "cell_type": "code",
      "execution_count": null,
      "metadata": {
        "collapsed": false
      },
      "outputs": [],
      "source": [
        "fmm.plot_model(inv_result_quadratic_reg.model);\nfmm.plot_model(inv_result_gaussian_prior.model);"
      ]
    },
    {
      "cell_type": "markdown",
      "metadata": {},
      "source": [
        "------------------------------------------------------------------------\n\n# Watermark\n\n```{=html}\n<!-- Feel free to add more modules in the watermark_list below, if more packages are used -->\n```\n```{=html}\n<!-- Otherwise please leave the below code cell unchanged -->\n```\n"
      ]
    },
    {
      "cell_type": "code",
      "execution_count": null,
      "metadata": {
        "collapsed": false
      },
      "outputs": [],
      "source": [
        "watermark_list = [\"cofi\", \"espresso\", \"numpy\", \"matplotlib\"]\nfor pkg in watermark_list:\n    pkg_var = __import__(pkg)\n    print(pkg, getattr(pkg_var, \"__version__\"))"
      ]
    },
    {
      "cell_type": "markdown",
      "metadata": {},
      "source": [
        "sphinx_gallery_thumbnail_number = -1\n"
      ]
    }
  ],
  "metadata": {
    "kernelspec": {
      "display_name": "Python 3",
      "language": "python",
      "name": "python3"
    },
    "language_info": {
      "codemirror_mode": {
        "name": "ipython",
        "version": 3
      },
      "file_extension": ".py",
      "mimetype": "text/x-python",
      "name": "python",
      "nbconvert_exporter": "python",
      "pygments_lexer": "ipython3",
      "version": "3.9.16"
    }
  },
  "nbformat": 4,
  "nbformat_minor": 0
}