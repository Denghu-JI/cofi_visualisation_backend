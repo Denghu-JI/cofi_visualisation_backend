{
 "cells": [
  {
   "cell_type": "code",
   "execution_count": 25,
   "id": "afe49d58-fb80-4677-b204-93e3f17b160e",
   "metadata": {},
   "outputs": [],
   "source": [
    "from urllib.error import HTTPError\n",
    "import urllib.request"
   ]
  },
  {
   "cell_type": "code",
   "execution_count": 26,
   "id": "9b921e8f-38dd-407a-be85-721843348a66",
   "metadata": {},
   "outputs": [],
   "source": [
    "def getResponseCode(url):\n",
    "    try:\n",
    "        conn = urllib.request.urlopen(url)\n",
    "        return conn.getcode()\n",
    "    except HTTPError as e:\n",
    "        return e.code"
   ]
  },
  {
   "cell_type": "code",
   "execution_count": 27,
   "id": "b86262be-5928-43c5-ae3d-947c673bc711",
   "metadata": {},
   "outputs": [
    {
     "data": {
      "text/plain": [
       "404"
      ]
     },
     "execution_count": 27,
     "metadata": {},
     "output_type": "execute_result"
    }
   ],
   "source": [
    "getResponseCode(\"https://github.com/Denghu-JI/2023-S1_problem_classification.git\")"
   ]
  },
  {
   "cell_type": "code",
   "execution_count": null,
   "id": "0b9cd1fd-f8e0-4796-9353-d711577a2111",
   "metadata": {},
   "outputs": [],
   "source": []
  }
 ],
 "metadata": {
  "kernelspec": {
   "display_name": "Python 3 (ipykernel)",
   "language": "python",
   "name": "python3"
  },
  "language_info": {
   "codemirror_mode": {
    "name": "ipython",
    "version": 3
   },
   "file_extension": ".py",
   "mimetype": "text/x-python",
   "name": "python",
   "nbconvert_exporter": "python",
   "pygments_lexer": "ipython3",
   "version": "3.8.16"
  }
 },
 "nbformat": 4,
 "nbformat_minor": 5
}
