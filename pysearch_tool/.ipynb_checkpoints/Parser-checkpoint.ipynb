{
 "cells": [
  {
   "cell_type": "code",
   "execution_count": 1,
   "id": "79c1cb32-2f92-4c9e-879f-b5f4fd8974ed",
   "metadata": {},
   "outputs": [
    {
     "ename": "ImportError",
     "evalue": "cannot import name 'methods_path' from 'pysearch' (C:\\Users\\derek\\TechLauncher\\Work\\2023-S1_problem_classification\\classification_utility\\pysearch_tool\\pysearch.py)",
     "output_type": "error",
     "traceback": [
      "\u001b[1;31m---------------------------------------------------------------------------\u001b[0m",
      "\u001b[1;31mImportError\u001b[0m                               Traceback (most recent call last)",
      "Cell \u001b[1;32mIn[1], line 2\u001b[0m\n\u001b[0;32m      1\u001b[0m \u001b[38;5;28;01mimport\u001b[39;00m \u001b[38;5;21;01mpysearch\u001b[39;00m\n\u001b[1;32m----> 2\u001b[0m \u001b[38;5;28;01mfrom\u001b[39;00m \u001b[38;5;21;01mpysearch\u001b[39;00m \u001b[38;5;28;01mimport\u001b[39;00m methods_path, applications_path, problems_path, app_info_name\n\u001b[0;32m      3\u001b[0m \u001b[38;5;28;01mfrom\u001b[39;00m \u001b[38;5;21;01mpysearch\u001b[39;00m \u001b[38;5;28;01mimport\u001b[39;00m pysearch, Method\n\u001b[0;32m      4\u001b[0m \u001b[38;5;28;01mimport\u001b[39;00m \u001b[38;5;21;01mos\u001b[39;00m\n",
      "\u001b[1;31mImportError\u001b[0m: cannot import name 'methods_path' from 'pysearch' (C:\\Users\\derek\\TechLauncher\\Work\\2023-S1_problem_classification\\classification_utility\\pysearch_tool\\pysearch.py)"
     ]
    }
   ],
   "source": [
    "import pysearch\n",
    "#from pysearch import methods_path, applications_path, problems_path, app_info_name\n",
    "from pysearch import pysearch, Method\n",
    "import os\n",
    "import pathlib"
   ]
  },
  {
   "cell_type": "code",
   "execution_count": null,
   "id": "b451d4b4-6fd7-432d-a552-3767acefdbf8",
   "metadata": {},
   "outputs": [],
   "source": [
    "search_engine = pysearch(methods_path, applications_path, problems_path)\n",
    "search_engine.search()"
   ]
  },
  {
   "cell_type": "code",
   "execution_count": 2,
   "id": "51f851a1-451e-43b0-854c-4ea5b87a2a25",
   "metadata": {},
   "outputs": [],
   "source": [
    "class pysearch_parser:\n",
    "    \n",
    "    def __init__(self, pysearch_obj):\n",
    "        \"\"\"\n",
    "        Parses the results from the pysearch search engine.\n",
    "\n",
    "        Parameters\n",
    "        ----------------\n",
    "        pysearch_obj : pysearch\n",
    "            An instance of the pysearch search engine class.\n",
    "        \"\"\"\n",
    "        self._methods = []\n",
    "        self._apps = []\n",
    "        self._problems = []\n",
    "        self._pysearch_obj = pysearch_obj\n",
    "\n",
    "    def parse(self):\n",
    "        \"\"\"\n",
    "        Parses the search results and generates tagged Problems, Methods, and Applications.\n",
    "        \"\"\"\n",
    "        # #loops through the methods from the pysearch search engine\n",
    "        # for method in self._pysearch_obj.mds():\n",
    "        #     method_name = method.name()\n",
    "        #     method_path = \"cofi/src/cofi/tools\"\n",
    "        #     method_tree = method.tree()\n",
    "        #     method_description = method.des()\n",
    "        #     self._methods.append({'name': method_name, 'path': method_path, 'tree': method_tree, 'description': method_description})\n",
    "        \n",
    "        # # inference methods in cofi\n",
    "        # for root, _, files in os.walk(self._pysearch_obj._method_path):\n",
    "        #     for file in files:\n",
    "        #         if file.endswith('.py'):\n",
    "        #             method_name = os.path.splitext(file)[0]\n",
    "        #             method_path = os.path.join(root, file)\n",
    "        #             with open(method_path, 'r') as f:\n",
    "        #                 method_tree = f.readline().strip()[2:].split(\" -> \")\n",
    "        #                 description = f.readline().strip()[2:]\n",
    "        #             self._method.append(Method(method_name, method_path, method_tree, description))\n",
    "        \n",
    "        # for root, _, files in os.walk(self._pysearch_obj._method_path):\n",
    "        #     for file in files:\n",
    "        #         if file.endswith('.py'):\n",
    "        #             path = os.path.join(root, file)\n",
    "        #             with open(path) as f:\n",
    "        #                 method_name = f.readline().strip('\\n')[11:]\n",
    "        #                 method_tree = f.readline().strip('\\n')[2:].split(\" -> \")\n",
    "        #                 des = f.readline().strip('\\n')[2:]\n",
    "        #                 self._methods.append(Method(method_name, path, method_tree, des))\n",
    "        \n",
    "        for filename in os.listdir(methods_path):\n",
    "            if filename.endswith(\".py\"):\n",
    "                # append file to self._methods\n",
    "                self._methods.append({'name': filename})\n",
    "        \n",
    "\n",
    "        for root, dirs, files in os.walk(self._pysearch_obj._app_path):\n",
    "            if root == self._pysearch_obj._app_path:\n",
    "                for dir in dirs:\n",
    "                    app_path = self._pysearch_obj._app_path + '/' + dir + '/' + app_info_name\n",
    "                    if os.path.exists(app_path):\n",
    "                        r = open(app_path)\n",
    "                        app_name = dir\n",
    "                        app_des = r.readline().strip('\\n')[2:]\n",
    "                        self._apps.append({'name': app_name, 'path': app_path, 'description': app_des})\n",
    "\n",
    "        for root, dirs, files in os.walk(self._pysearch_obj._prob_path):\n",
    "            if root == self._pysearch_obj._prob_path:\n",
    "                for dir in dirs:\n",
    "                    prob_path = self._pysearch_obj._prob_path + '/' + dir\n",
    "                    if os.path.exists(prob_path):\n",
    "                        self._problems.append({'name': dir, 'path': prob_path})\n",
    "                        \n",
    "        \n",
    "        \n",
    "        return {'methods': self._methods, 'apps': self._apps, 'problems': self._problems}\n",
    "        print(self._pysearch_obj.mds())"
   ]
  },
  {
   "cell_type": "code",
   "execution_count": 3,
   "id": "91912b89-9446-4b9e-ab55-f5488b509750",
   "metadata": {},
   "outputs": [
    {
     "ename": "NameError",
     "evalue": "name 'os' is not defined",
     "output_type": "error",
     "traceback": [
      "\u001b[1;31m---------------------------------------------------------------------------\u001b[0m",
      "\u001b[1;31mNameError\u001b[0m                                 Traceback (most recent call last)",
      "Cell \u001b[1;32mIn[3], line 1\u001b[0m\n\u001b[1;32m----> 1\u001b[0m \u001b[38;5;28;01mfor\u001b[39;00m filename \u001b[38;5;129;01min\u001b[39;00m \u001b[43mos\u001b[49m\u001b[38;5;241m.\u001b[39mlistdir(methods_path):\n\u001b[0;32m      2\u001b[0m     \u001b[38;5;28;01mif\u001b[39;00m os\u001b[38;5;241m.\u001b[39mpath\u001b[38;5;241m.\u001b[39misfile(os\u001b[38;5;241m.\u001b[39mpath\u001b[38;5;241m.\u001b[39mjoin(methods_path, filename)):\n\u001b[0;32m      3\u001b[0m         \u001b[38;5;28mprint\u001b[39m(filename)\n",
      "\u001b[1;31mNameError\u001b[0m: name 'os' is not defined"
     ]
    }
   ],
   "source": [
    "for filename in os.listdir(methods_path):\n",
    "    if os.path.isfile(os.path.join(methods_path, filename)):\n",
    "        print(filename)"
   ]
  },
  {
   "cell_type": "code",
   "execution_count": 4,
   "id": "c7a08b07-55ed-4e0f-a5d8-c19b270917ec",
   "metadata": {},
   "outputs": [
    {
     "ename": "NameError",
     "evalue": "name 'search_engine' is not defined",
     "output_type": "error",
     "traceback": [
      "\u001b[1;31m---------------------------------------------------------------------------\u001b[0m",
      "\u001b[1;31mNameError\u001b[0m                                 Traceback (most recent call last)",
      "Cell \u001b[1;32mIn[4], line 1\u001b[0m\n\u001b[1;32m----> 1\u001b[0m parser \u001b[38;5;241m=\u001b[39m pysearch_parser(\u001b[43msearch_engine\u001b[49m)\n\u001b[0;32m      2\u001b[0m tagged_results \u001b[38;5;241m=\u001b[39m parser\u001b[38;5;241m.\u001b[39mparse()\n\u001b[0;32m      3\u001b[0m tagged_results\n",
      "\u001b[1;31mNameError\u001b[0m: name 'search_engine' is not defined"
     ]
    }
   ],
   "source": [
    "parser = pysearch_parser(search_engine)\n",
    "tagged_results = parser.parse()\n",
    "tagged_results"
   ]
  },
  {
   "cell_type": "code",
   "execution_count": 5,
   "id": "1987c1aa-c9ec-4fdb-9673-bcdccd5b453a",
   "metadata": {},
   "outputs": [
    {
     "ename": "NameError",
     "evalue": "name 'parser' is not defined",
     "output_type": "error",
     "traceback": [
      "\u001b[1;31m---------------------------------------------------------------------------\u001b[0m",
      "\u001b[1;31mNameError\u001b[0m                                 Traceback (most recent call last)",
      "Cell \u001b[1;32mIn[5], line 1\u001b[0m\n\u001b[1;32m----> 1\u001b[0m \u001b[43mparser\u001b[49m\n",
      "\u001b[1;31mNameError\u001b[0m: name 'parser' is not defined"
     ]
    }
   ],
   "source": [
    "parser"
   ]
  },
  {
   "cell_type": "code",
   "execution_count": 6,
   "id": "8d1e8504-5868-49b0-8b61-a83628ce3727",
   "metadata": {},
   "outputs": [
    {
     "ename": "NameError",
     "evalue": "name 'Method' is not defined",
     "output_type": "error",
     "traceback": [
      "\u001b[1;31m---------------------------------------------------------------------------\u001b[0m",
      "\u001b[1;31mNameError\u001b[0m                                 Traceback (most recent call last)",
      "Cell \u001b[1;32mIn[6], line 1\u001b[0m\n\u001b[1;32m----> 1\u001b[0m \u001b[38;5;28mprint\u001b[39m(\u001b[38;5;28mstr\u001b[39m(\u001b[43mMethod\u001b[49m\u001b[38;5;241m.\u001b[39mname))\n",
      "\u001b[1;31mNameError\u001b[0m: name 'Method' is not defined"
     ]
    }
   ],
   "source": [
    "print(str(Method.name))"
   ]
  },
  {
   "cell_type": "code",
   "execution_count": 7,
   "id": "95fe9986-faff-4ced-b45b-a062110abcf5",
   "metadata": {},
   "outputs": [
    {
     "ename": "NameError",
     "evalue": "name 'os' is not defined",
     "output_type": "error",
     "traceback": [
      "\u001b[1;31m---------------------------------------------------------------------------\u001b[0m",
      "\u001b[1;31mNameError\u001b[0m                                 Traceback (most recent call last)",
      "Cell \u001b[1;32mIn[7], line 1\u001b[0m\n\u001b[1;32m----> 1\u001b[0m \u001b[38;5;28;01mfor\u001b[39;00m root, dirs, files \u001b[38;5;129;01min\u001b[39;00m \u001b[43mos\u001b[49m\u001b[38;5;241m.\u001b[39mwalk(methods_path):\n\u001b[0;32m      2\u001b[0m     \u001b[38;5;28mprint\u001b[39m(\u001b[38;5;124mf\u001b[39m\u001b[38;5;124m\"\u001b[39m\u001b[38;5;124mroot: \u001b[39m\u001b[38;5;132;01m{\u001b[39;00mroot\u001b[38;5;132;01m}\u001b[39;00m\u001b[38;5;124m\"\u001b[39m)\n\u001b[0;32m      3\u001b[0m     \u001b[38;5;28mprint\u001b[39m(\u001b[38;5;124mf\u001b[39m\u001b[38;5;124m\"\u001b[39m\u001b[38;5;124mdirs: \u001b[39m\u001b[38;5;132;01m{\u001b[39;00mdirs\u001b[38;5;132;01m}\u001b[39;00m\u001b[38;5;124m\"\u001b[39m)\n",
      "\u001b[1;31mNameError\u001b[0m: name 'os' is not defined"
     ]
    }
   ],
   "source": [
    "for root, dirs, files in os.walk(methods_path):\n",
    "    print(f\"root: {root}\")\n",
    "    print(f\"dirs: {dirs}\")\n",
    "    print(f\"files: {files}\")"
   ]
  },
  {
   "cell_type": "code",
   "execution_count": null,
   "id": "4835365b-1faa-4c5c-bb69-43136125d96d",
   "metadata": {},
   "outputs": [],
   "source": []
  },
  {
   "cell_type": "code",
   "execution_count": null,
   "id": "ece115db-b407-4c73-904a-dfde826ef661",
   "metadata": {},
   "outputs": [],
   "source": []
  }
 ],
 "metadata": {
  "kernelspec": {
   "display_name": "Python 3 (ipykernel)",
   "language": "python",
   "name": "python3"
  },
  "language_info": {
   "codemirror_mode": {
    "name": "ipython",
    "version": 3
   },
   "file_extension": ".py",
   "mimetype": "text/x-python",
   "name": "python",
   "nbconvert_exporter": "python",
   "pygments_lexer": "ipython3",
   "version": "3.8.16"
  }
 },
 "nbformat": 4,
 "nbformat_minor": 5
}
